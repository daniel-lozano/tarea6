{
 "metadata": {
  "name": "plots_evoluciones"
 },
 "nbformat": 3,
 "nbformat_minor": 0,
 "worksheets": [
  {
   "cells": [
    {
     "cell_type": "code",
     "collapsed": false,
     "input": [
      "%pylab inline\n",
      "import matplotlib.pyplot as plt\n",
      "import numpy as np\n",
      "from numpy import pi"
     ],
     "language": "python",
     "metadata": {},
     "outputs": [
      {
       "output_type": "stream",
       "stream": "stdout",
       "text": [
        "\n",
        "Welcome to pylab, a matplotlib-based Python environment [backend: module://IPython.zmq.pylab.backend_inline].\n",
        "For more information, type 'help(pylab)'.\n"
       ]
      }
     ],
     "prompt_number": 4
    },
    {
     "cell_type": "code",
     "collapsed": false,
     "input": [
      "file1=np.loadtxt(open(\"1000_anos.dat\",\"r\"))\n",
      "file2=np.loadtxt(open(\"2000_anos.dat\",\"r\"))\n",
      "file3=np.loadtxt(open(\"3000_anos.dat\",\"r\"))\n",
      "file4=np.loadtxt(open(\"4000_anos.dat\",\"r\"))\n",
      "file5=np.loadtxt(open(\"5000_anos.dat\",\"r\"))"
     ],
     "language": "python",
     "metadata": {},
     "outputs": [],
     "prompt_number": 5
    },
    {
     "cell_type": "code",
     "collapsed": false,
     "input": [
      "#primer momento de evolucion: 1000 millones de a\u00f1os\n",
      "x=file1[:,1]\n",
      "y=file1[:,2]\n",
      "vx=file1[:,3]\n",
      "vy=file1[:,4]\n",
      "plot(x,y, \"bo\",label=\"1000\")\n",
      "plot(x[0],y[0], \"mo\",ms=20)\n",
      "x1=file2[:,1]\n",
      "y1=file2[:,2]\n",
      "vx1=file2[:,3]\n",
      "vy1=file2[:,4]\n",
      "plot(x1,y1, \"ro\",label=\"2000\")\n",
      "\n",
      "x2=file3[:,1]\n",
      "y2=file3[:,2]\n",
      "vx2=file3[:,3]\n",
      "vy2=file3[:,4]\n",
      "plot(x2,y2, \"co\",label=\"3000\")\n",
      "\n",
      "x3=file4[:,1]\n",
      "y3=file4[:,2]\n",
      "vx3=file4[:,3]\n",
      "vy3=file4[:,4]\n",
      "plot(x3,y3, \"yo\",label=\"4000\")\n",
      "\n",
      "x4=file5[:,1]\n",
      "y4=file5[:,2]\n",
      "vx4=file5[:,3]\n",
      "vy4=file5[:,4]\n",
      "plot(x4,y4, \"go\",label=\"5000\")\n",
      "legend()\n",
      "title(\"evolucion\")"
     ],
     "language": "python",
     "metadata": {},
     "outputs": [
      {
       "output_type": "pyout",
       "prompt_number": 9,
       "text": [
        "<matplotlib.text.Text at 0x4297950>"
       ]
      },
      {
       "output_type": "display_data",
       "png": "[encoded data removed]"
      }
     ],
     "prompt_number": 9
    },
    {
     "cell_type": "code",
     "collapsed": false,
     "input": [
      "plot(x,y,\"b*\")\n",
      "plot(x[0],y[0],\"ko\")\n",
      "xlim(-0.5*10**13)"
     ],
     "language": "python",
     "metadata": {},
     "outputs": [
      {
       "output_type": "pyout",
       "prompt_number": 32,
       "text": [
        "[<matplotlib.lines.Line2D at 0x5bef850>]"
       ]
      },
      {
       "output_type": "display_data",
       "png": "[encoded data removed]"
      }
     ],
     "prompt_number": 32
    },
    {
     "cell_type": "code",
     "collapsed": false,
     "input": [
      "plot(vx1,label=\"Velocidad en X\")\n",
      "plot(vy1,label=\"Velocidad en Y\")\n",
      "legend()\n",
      "xlabel(\"Vx\")\n",
      "ylabel(\"Vy\")\n",
      "plt.show()\n",
      "plt.close()"
     ],
     "language": "python",
     "metadata": {},
     "outputs": [
      {
       "ename": "SyntaxError",
       "evalue": "unexpected EOF while parsing (<ipython-input-6-2ad2ccf3338b>, line 1)",
       "output_type": "pyerr",
       "traceback": [
        "\u001b[1;36m  File \u001b[1;32m\"<ipython-input-6-2ad2ccf3338b>\"\u001b[1;36m, line \u001b[1;32m1\u001b[0m\n\u001b[1;33m    plot(vx1,vy2,label=(\"velocidades\")\u001b[0m\n\u001b[1;37m                                      ^\u001b[0m\n\u001b[1;31mSyntaxError\u001b[0m\u001b[1;31m:\u001b[0m unexpected EOF while parsing\n"
       ]
      }
     ],
     "prompt_number": 6
    },
    {
     "cell_type": "code",
     "collapsed": false,
     "input": [
      "#segundo momento de evolucion: 2000 millones de a\u00f1os\n",
      "#en python se pueden asignar lasmismas variables a diferentes cosas?\n",
      "x=file2[:,1]\n",
      "y=file2[:,2]\n",
      "vx=file2[:,3]\n",
      "vy=file2[:,4]\n",
      "\n",
      "x2=np.empty(12)\n",
      "vx2=np.empty(12)\n",
      "y2=np.empty(12)\n",
      "vy2=np.empty(12)\n",
      "\n",
      "for i in range (12):\n",
      "    x2[i]=x[i+1]\n",
      "    y2[i]=y[i+1]\n",
      "    vx2[i]=vx[i+1]\n",
      "    vy2[i]=vy[i+1]\n",
      "    \n",
      "plot(x2,y2,label=\"Posiciones\")\n",
      "legend()\n",
      "xlabel(\"X\")\n",
      "ylabel(\"Y\")\n",
      "xlim(-100,100)\n",
      "ylim(-100,100)\n",
      "plt.show()\n",
      "plt.close()\n",
      "\n",
      "\n"
     ],
     "language": "python",
     "metadata": {},
     "outputs": []
    },
    {
     "cell_type": "code",
     "collapsed": false,
     "input": [
      "#3ra evolucion\n",
      "x=file3[:,1]\n",
      "y=file3[:,2]\n",
      "vx=file3[:,3]\n",
      "vy=file3[:,4]\n",
      "\n",
      "x3=np.empty(12)\n",
      "vx3=np.empty(12)\n",
      "y3=np.empty(12)\n",
      "vy3=np.empty(12)\n",
      "\n",
      "for i in range (12):\n",
      "    x3[i]=x[i+1]\n",
      "    y3[i]=y[i+1]\n",
      "    vx3[i]=vx[i+1]\n",
      "    vy3[i]=vy[i+1]\n",
      "    \n",
      "plot(x3,y3,label=\"Posiciones\")\n",
      "legend()\n",
      "xlabel(\"X\")\n",
      "ylabel(\"Y\")\n",
      "xlim(-100,100)\n",
      "ylim(-100,100)\n",
      "plt.show()\n",
      "plt.close()\n"
     ],
     "language": "python",
     "metadata": {},
     "outputs": []
    },
    {
     "cell_type": "code",
     "collapsed": false,
     "input": [
      "#\n",
      "x=file4[:,1]\n",
      "y=file4[:,2]\n",
      "vx=file4[:,3]\n",
      "vy=file4[:,4]\n",
      "\n",
      "x4=np.empty(12)\n",
      "vx4=np.empty(12)\n",
      "y4=np.empty(12)\n",
      "vy4=np.empty(12)\n",
      "\n",
      "for i in range (12):\n",
      "    x4[i]=x[i+1]\n",
      "    y4[i]=y[i+1]\n",
      "    vx4[i]=vx[i+1]\n",
      "    vy4[i]=vy[i+1]\n",
      "    \n",
      "plot(x4,y4,label=\"Posiciones\")\n",
      "legend()\n",
      "xlabel(\"X\")\n",
      "ylabel(\"Y\")\n",
      "xlim(-100,100)\n",
      "ylim(-100,100)\n",
      "plt.show()\n",
      "plt.close()\n"
     ],
     "language": "python",
     "metadata": {},
     "outputs": []
    }
   ],
   "metadata": {}
  }
 ]
}